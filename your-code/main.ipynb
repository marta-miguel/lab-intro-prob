{
 "cells": [
  {
   "cell_type": "markdown",
   "metadata": {},
   "source": [
    "# Introduction To Probability\n",
    "## Challenge 1\n",
    "\n",
    "A and B are events of a probability space with $(\\omega, \\sigma, P)$ such that $P(A) = 0.3$, $P(B) = 0.6$ and $P(A \\cap B) = 0.1$\n",
    "\n",
    "Which of the following statements are false?\n",
    "* $P(A \\cup B) = 0.6$\n",
    "* $P(A \\cap B^{C}) = 0.2$\n",
    "* $P(A \\cap (B \\cup B^{C})) = 0.4$\n",
    "* $P(A^{C} \\cap B^{C}) = 0.3$\n",
    "* $P((A \\cap B)^{C}) = 0.9$"
   ]
  },
  {
   "cell_type": "code",
   "execution_count": null,
   "metadata": {},
   "outputs": [],
   "source": [
    "\"\"\"\n",
    "your solution here\n",
    "\n",
    "1. False: 𝑃(𝐴∪𝐵)= 𝑃(𝐴)+𝑃(𝐵)-𝑃(𝐴∩𝐵) = 0.3+0.6-0.1 = 0.8\n",
    "\n",
    "2. True: 𝑃(𝐴∩𝐵c)= 𝑃(𝐴)-𝑃(𝐴∩𝐵) = 0.3-0.1 = 0.2\n",
    "\n",
    "3. False: 𝑃(𝐴∩(𝐵∪𝐵c))= 𝑃(𝐴) = 0.3\n",
    "\n",
    "4. False: 𝑃(𝐴c∩𝐵c)= 1 - 𝑃(𝐴∪𝐵) = 1 -0.8 = 0.2\n",
    "\n",
    "5. True: 𝑃((𝐴∩𝐵)𝐶)= 1 - 𝑃(𝐴∩𝐵) = 0.9\n",
    "\n",
    "\"\"\""
   ]
  },
  {
   "cell_type": "markdown",
   "metadata": {},
   "source": [
    "## Challenge 2\n",
    "There is a box with 10 white balls, 12 red balls and 8 black balls. Calculate the probability of:\n",
    "* Taking a white ball out.\n",
    "* Taking a white ball out after taking a black ball out.\n",
    "* Taking a red ball out after taking a black and a red ball out.\n",
    "* Taking a red ball out after taking a black and a red ball out with reposition.\n",
    "\n",
    "**Hint**: Reposition means putting back the ball into the box after taking it out."
   ]
  },
  {
   "cell_type": "code",
   "execution_count": null,
   "metadata": {},
   "outputs": [],
   "source": [
    "\"\"\"\n",
    "your solution here\n",
    "\n",
    "1. Taking a white ball out: 10/30 = 1/3\n",
    "\n",
    "2. Taking a white ball out after taking a black ball out: 10/29\n",
    "\n",
    "3. Taking a red ball out after taking a black and a red ball out: 11/28\n",
    "\n",
    "4. Taking a red ball out after taking a black and a red ball out with reposition: 12/30 = 6/15\n",
    "\n",
    "\"\"\""
   ]
  },
  {
   "cell_type": "markdown",
   "metadata": {},
   "source": [
    "## Challenge 3\n",
    "\n",
    "You are planning to go on a picnic today but the morning is cloudy. You hate rain so you don't know whether to go out or stay home! To help you make a decision, you gather the following data about rainy days:\n",
    "\n",
    "* Knowing that it is a rainy day, the probability of cloudy is 50%!\n",
    "* The probability of any day (rainy or not) starting off cloudy is 40%. \n",
    "* This month is usually dry so only 3 of 30 days (10%) tend to be rainy. \n",
    "\n",
    "What is the probability of rain, given the day started cloudy?"
   ]
  },
  {
   "cell_type": "code",
   "execution_count": null,
   "metadata": {},
   "outputs": [],
   "source": [
    "\"\"\"\n",
    "your solution here:\n",
    "\n",
    "P(cloudy|rainy) = 0.5\n",
    "P(cloudy) = 0.4\n",
    "P(rainy) = 0.1\n",
    "\n",
    "P(rainy|cloudy) = ?\n",
    "P(rainy|cloudy) = P(cloudy|rainy) * P(rainy) / P(cloudy) = 0.5*0.1 / 0.4 = 0.125\n",
    "\n",
    "\"\"\""
   ]
  },
  {
   "cell_type": "markdown",
   "metadata": {},
   "source": [
    "## Challenge 4\n",
    "\n",
    "One thousand people were asked through a telephone survey whether they thought more street lighting is needed at night or not.\n",
    "\n",
    "Out of the 480 men that answered the survey, 324 said yes and 156 said no. On the other hand, out of the 520 women that answered, 351 said yes and 169 said no. \n",
    "\n",
    "We wonder if men and women have a different opinions about the street lighting matter. Is gender relevant or irrelevant to the question?\n",
    "\n",
    "Consider the following events:\n",
    "- The answer is yes, so the person that answered thinks that more street lighting is needed.\n",
    "- The person who answered is a man.\n",
    "\n",
    "We want to know if these events are independent, that is, if the fact of wanting more light depends on whether one is male or female. Are these events independent or not?\n",
    "\n",
    "**Hint**: To clearly compare the answers by gender, it is best to place the data in a table."
   ]
  },
  {
   "cell_type": "code",
   "execution_count": 2,
   "metadata": {},
   "outputs": [
    {
     "data": {
      "text/html": [
       "<div>\n",
       "<style scoped>\n",
       "    .dataframe tbody tr th:only-of-type {\n",
       "        vertical-align: middle;\n",
       "    }\n",
       "\n",
       "    .dataframe tbody tr th {\n",
       "        vertical-align: top;\n",
       "    }\n",
       "\n",
       "    .dataframe thead th {\n",
       "        text-align: right;\n",
       "    }\n",
       "</style>\n",
       "<table border=\"1\" class=\"dataframe\">\n",
       "  <thead>\n",
       "    <tr style=\"text-align: right;\">\n",
       "      <th></th>\n",
       "      <th>Yes</th>\n",
       "      <th>No</th>\n",
       "      <th>Total</th>\n",
       "    </tr>\n",
       "    <tr>\n",
       "      <th>Gender</th>\n",
       "      <th></th>\n",
       "      <th></th>\n",
       "      <th></th>\n",
       "    </tr>\n",
       "  </thead>\n",
       "  <tbody>\n",
       "    <tr>\n",
       "      <th>Male</th>\n",
       "      <td>324</td>\n",
       "      <td>156</td>\n",
       "      <td>480</td>\n",
       "    </tr>\n",
       "    <tr>\n",
       "      <th>Female</th>\n",
       "      <td>351</td>\n",
       "      <td>169</td>\n",
       "      <td>520</td>\n",
       "    </tr>\n",
       "    <tr>\n",
       "      <th>Total</th>\n",
       "      <td>675</td>\n",
       "      <td>325</td>\n",
       "      <td>1000</td>\n",
       "    </tr>\n",
       "  </tbody>\n",
       "</table>\n",
       "</div>"
      ],
      "text/plain": [
       "        Yes   No  Total\n",
       "Gender                 \n",
       "Male    324  156    480\n",
       "Female  351  169    520\n",
       "Total   675  325   1000"
      ]
     },
     "execution_count": 2,
     "metadata": {},
     "output_type": "execute_result"
    }
   ],
   "source": [
    "# your code here\n",
    "import pandas as pd\n",
    "\n",
    "data = {'Gender': ['Male', 'Female', 'Total'], 'Yes': [324, 351, 675],'No': [156, 169, 325],'Total': [480, 520, 1000]}\n",
    "\n",
    "data = pd.DataFrame(data)\n",
    "data.set_index('Gender', inplace=True)\n",
    "data"
   ]
  },
  {
   "cell_type": "code",
   "execution_count": null,
   "metadata": {},
   "outputs": [],
   "source": [
    "\"\"\"\n",
    "your solution here\n",
    "\n",
    "If saying Yes is independent from being Male: P(yes ∩ man) = P(yes) * P(man).\n",
    "P(yes) = 675/1000 = 0.675\n",
    "P(man) = 480/1000 = 0.48\n",
    "𝑃(yes ∪ man)= 0.324\n",
    "\n",
    "𝑃(yes ∪ man)= 𝑃(yes) + 𝑃(man) - P(yes ∩ man) <=> P(yes ∩ man) = 𝑃(yes) + 𝑃(man) - 𝑃(yes ∪ man) <=> P(yes ∩ man) = 0.675 + 0.48 - (0.675 + 0.48 - 0.324) = 0.324\n",
    "\n",
    "P(yes ∩ man) = P(yes) * P(man) = 0.675 * 0.48 = 0.324\n",
    "\n",
    "The events being Male(Female) and wanting more light or not (Yes/No) are independent.\n",
    "\n",
    "\"\"\""
   ]
  }
 ],
 "metadata": {
  "kernelspec": {
   "display_name": "Python 3 (ipykernel)",
   "language": "python",
   "name": "python3"
  },
  "language_info": {
   "codemirror_mode": {
    "name": "ipython",
    "version": 3
   },
   "file_extension": ".py",
   "mimetype": "text/x-python",
   "name": "python",
   "nbconvert_exporter": "python",
   "pygments_lexer": "ipython3",
   "version": "3.9.12"
  }
 },
 "nbformat": 4,
 "nbformat_minor": 2
}
